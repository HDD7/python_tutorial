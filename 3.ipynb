{
 "cells": [
  {
   "cell_type": "markdown",
   "metadata": {},
   "source": [
    "#第3章 基本数据类型 \n",
    "> lzp\n",
    "\n",
    "## 数字类型\n",
    "Python语言包括三种数字类型\n",
    "- 整数类型：对应数学中的整数\n",
    "- 浮点数类型：对应数学中的实数\n",
    "- 复数类型：对应数学中的复数\n",
    "\n",
    "### 整数类型int\n",
    "与数学中的整数概念一致，没有取值范围限制\n",
    "示例\n",
    "```\n",
    " 1010, 99, -217，默认为10进制 \n",
    " 0x9a, -0X89   (0x, 0X开头表示16进制数) \n",
    " 0b010, -0B101  (0b, 0B开头表示2进制数) \n",
    " 0o123, -0O456  (0o, 0O开头表示8进制数)\n",
    "```\n",
    "\n",
    "\n"
   ]
  },
  {
   "cell_type": "code",
   "execution_count": 4,
   "metadata": {},
   "outputs": [
    {
     "name": "stdout",
     "output_type": "stream",
     "text": [
      "<class 'int'> <class 'int'> <class 'int'>\n"
     ]
    }
   ],
   "source": [
    "x1 = 0x9a\n",
    "x2 = 0b110\n",
    "x3 = 0o123\n",
    "print(type(x1),type(x2),type(x3))"
   ]
  },
  {
   "cell_type": "markdown",
   "metadata": {},
   "source": [
    "## 浮点数类型float\n",
    "- 带有小数点及小数的数字 \n",
    "- Python语言中浮点数的数值范围存在限制，小数精度也存在限制。这种限制与在不同计算机系统有关\n",
    "- 十进制表示、科学计数法表示"
   ]
  },
  {
   "cell_type": "code",
   "execution_count": 5,
   "metadata": {},
   "outputs": [
    {
     "data": {
      "text/plain": [
       "sys.float_info(max=1.7976931348623157e+308, max_exp=1024, max_10_exp=308, min=2.2250738585072014e-308, min_exp=-1021, min_10_exp=-307, dig=15, mant_dig=53, epsilon=2.220446049250313e-16, radix=2, rounds=1)"
      ]
     },
     "execution_count": 5,
     "metadata": {},
     "output_type": "execute_result"
    }
   ],
   "source": [
    "import sys\n",
    "sys.float_info"
   ]
  },
  {
   "cell_type": "code",
   "execution_count": 7,
   "metadata": {},
   "outputs": [
    {
     "name": "stdout",
     "output_type": "stream",
     "text": [
      "0.71 -77.0 1.0 2e-07\n",
      "<class 'float'> <class 'float'> <class 'float'> <class 'float'>\n"
     ]
    }
   ],
   "source": [
    "f1 = .71\n",
    "f2 = -77.\n",
    "f3 = 1.0\n",
    "f4 = 2e-7\n",
    "print(f1,f2,f3,f4)\n",
    "print(type(f1),type(f2),type(f3),type(f4))"
   ]
  },
  {
   "cell_type": "markdown",
   "metadata": {},
   "source": [
    "## 复数类型complex\n",
    "> 与数学中的复数概念一致, z = a + bj， a是实数部分，b是虚数部分，a和b都是浮点类型，虚数部分用j或者J标识\n",
    "\n",
    "对于复数z，可以用z.real获得实数部分，z.imag获得虚数部分"
   ]
  },
  {
   "cell_type": "code",
   "execution_count": 10,
   "metadata": {},
   "outputs": [
    {
     "name": "stdout",
     "output_type": "stream",
     "text": [
      "(12.3+4j) (-5.6+7j)\n",
      "0.000123 5.6e+89\n"
     ]
    }
   ],
   "source": [
    "z1 = 12.3 + 4j\n",
    "z2 = -5.6 + 7j\n",
    "z3 = 1.23e-4 + 5.6e+89j\n",
    "print(z1,z2)\n",
    "print(z3.real,z3.imag)"
   ]
  },
  {
   "cell_type": "markdown",
   "metadata": {},
   "source": [
    "# 数字类型的操作\n",
    "## 内置的数值运算操作符\n",
    "- 三种类型存在一种逐渐“扩展”的关系: \\\n",
    "         整数 -> 浮点数 -> 复数   \n",
    "       （整数是浮点数特例，浮点数是复数特例）\n",
    "- 不同数字类型之间可以进行混合运算，运算后生成结果为最宽类型\n",
    "- 123 + 4.0 = 127.0  (整数 + 浮点数 = 浮点数)\n",
    "\n",
    "| 操作符 | 描述                                               |\n",
    "| ------ | -------------------------------------------------- |\n",
    "| x + y  | x与y之和，左结合                                   |\n",
    "| x - y  | x与y之差，左结合                                   |\n",
    "| x * y  | x与y之积，左结合                                   |\n",
    "| x / y  | x与y之商，左结合                                   |\n",
    "| x // y | x与y之整数商，即：不大于x与y之商的最大整数，左结合 |\n",
    "| x % y  | x与y之商的余数，也称为模运算，左结合               |\n",
    "| -x     | x的负值，即：x*(-1)  ，右结合                      |\n",
    "| +x     | x本身，右结合                                      |\n",
    "| x**y   | x的y次幂，即：xy，右结合                           |\n",
    "\n",
    "\n",
    "- 对于二元运算符OP：+，-，*，/，//，%，** \\\n",
    "x  OP=  y 等价于   x=x OP y \\\n",
    "- 例如： x+=y       x=x+y\n",
    "      x*=y+8    x=x*(y+8)\n",
    "\n"
   ]
  },
  {
   "cell_type": "code",
   "execution_count": 12,
   "metadata": {},
   "outputs": [
    {
     "name": "stdout",
     "output_type": "stream",
     "text": [
      "True\n"
     ]
    }
   ],
   "source": [
    "x1,x2,y1,y2=1,1,2,2\n",
    "x1 += y1\n",
    "x2 = x2 + y2\n",
    "print(x1 == x2)"
   ]
  },
  {
   "cell_type": "markdown",
   "metadata": {},
   "source": [
    "数字类型之间相互运算所的结果是“更宽”的类型：\n",
    "- 整数之间运算，如果数学意义上的结果是小数，结果是浮点数；\n",
    "- 整数之间运算，如果数学意义上的结果是整数，结果是整数；\n",
    "- 整数和浮点数混合运算，输出结果是浮点数；\n",
    "- 整数或浮点数与复数运算，输出结果是复数。"
   ]
  },
  {
   "cell_type": "markdown",
   "metadata": {},
   "source": [
    "Python解释器的6个内置函数与数值运算相关 \n",
    "| 函数                 | 描述                                                         |\n",
    "| -------------------- | ------------------------------------------------------------ |\n",
    "| abs(x)               | x的绝对值                                                    |\n",
    "| divmod(x,  y)        | (x//y,  x%y)，输出为二元组形式（也称为元组类型）             |\n",
    "| pow(x,  y[, z])      | (x**y)%z，[..]表示该参数可以省略，即：pow(x,y)，它与x**y相同 |\n",
    "| round(x[,  ndigits]) | 对x四舍五入，保留ndigits位小数。round(x)返回四舍五入的整数值 |\n",
    "| max(x1,  x2,  …, xn) | x1,  x2,  …, xn的最大值，n没有限定                           |\n",
    "| min(x1,  x2,  …, xn) | x1,  x2,  …, xn的最小值，n没有限定                           |\n",
    "\n"
   ]
  },
  {
   "cell_type": "markdown",
   "metadata": {},
   "source": [
    "数值运算操作符可以隐式地转换输出结果的数字类型，通过内置的数字类型转换函数可以显式地在数字类型之间进行转换  \n",
    "| 函数              | 描述                                                         |\n",
    "| ----------------- | ------------------------------------------------------------ |\n",
    "| int(x)            | 将x转换为整数（**截尾**），**x****可以是浮点数或字符串**     |\n",
    "| float(x)          | 将x转换为浮点数，**x****可以是整数或字符串**                 |\n",
    "| complex(re[, im]) | 生成一个复数，实部为re，虚部为im，re可以是整数、浮点数或字符串，im可以是整数或浮点数但不能为字符串 |\n",
    "|                   | **复数不能转换为整数或者浮点数**                             |"
   ]
  },
  {
   "cell_type": "code",
   "execution_count": 13,
   "metadata": {},
   "outputs": [
    {
     "name": "stdout",
     "output_type": "stream",
     "text": [
      "4\n",
      "4.0\n",
      "(4+0j)\n"
     ]
    }
   ],
   "source": [
    "print(int(4.5))\n",
    "print(float(4))\n",
    "print(complex(4))"
   ]
  },
  {
   "cell_type": "markdown",
   "metadata": {},
   "source": [
    "## 数字类型的判断\n",
    "函数：type(x)，返回x的类型，适用于所有类型的判断"
   ]
  },
  {
   "cell_type": "code",
   "execution_count": 20,
   "metadata": {},
   "outputs": [
    {
     "name": "stdout",
     "output_type": "stream",
     "text": [
      "<class 'float'>\n",
      "<class 'complex'>\n"
     ]
    }
   ],
   "source": [
    "print(type(4.5))\n",
    "print(type(4.5 + 2j))"
   ]
  },
  {
   "cell_type": "markdown",
   "metadata": {},
   "source": [
    "# math库的使用\n",
    "首先使用保留字import引用该库"
   ]
  },
  {
   "cell_type": "code",
   "execution_count": 21,
   "metadata": {},
   "outputs": [
    {
     "data": {
      "text/plain": [
       "11"
      ]
     },
     "execution_count": 21,
     "metadata": {},
     "output_type": "execute_result"
    }
   ],
   "source": [
    "# import math ，采用math.<b>()形式使用 \n",
    "import math\n",
    "math.ceil(10.2)"
   ]
  },
  {
   "cell_type": "code",
   "execution_count": 22,
   "metadata": {},
   "outputs": [
    {
     "data": {
      "text/plain": [
       "10"
      ]
     },
     "execution_count": 22,
     "metadata": {},
     "output_type": "execute_result"
    }
   ],
   "source": [
    "#from math import <函数名> 直接采用<函数名>()形式使用\n",
    "from math import floor\n",
    "floor(10.2)"
   ]
  },
  {
   "cell_type": "markdown",
   "metadata": {},
   "source": [
    "math库包括4个数学常数\n",
    "\n",
    "| 常数     | 数学表示 | 描述                               |\n",
    "| -------- | -------- | ---------------------------------- |\n",
    "| math.pi  |          | 圆周率，值为3.141592653589793      |\n",
    "| math.e   | *e*      | 自然对数，值为2.718281828459045    |\n",
    "| math.inf |          | 正无穷大，负无穷大为-math.inf      |\n",
    "| math.nan | 无效数据 | 非浮点数标记，NaN（Not  a Number） |"
   ]
  },
  {
   "cell_type": "markdown",
   "metadata": {},
   "source": [
    "math库包括16个数值表示函数\n",
    "| 函数                 | 数学表示    | 描述                                             |\n",
    "| -------------------- | ----------- | ------------------------------------------------ |\n",
    "| math.fabs(x)         |             | 返回x的绝对值                                    |\n",
    "| math.fmod(x,  y)     | x  % y      | 返回x与y的模                                     |\n",
    "| math.fsum([x,y,…])   | x+y+…       | 浮点数精确求和                                   |\n",
    "| math.ceil(x)         |             | 向上取整，返回不小于x的最小整数                  |\n",
    "| math.floor(x)        |             | 向下取证，返回不大于x的最大整数                  |\n",
    "| math.factorial(x)    | x!          | 返回x的阶乘，如果x是小数或负数，返回ValueError   |\n",
    "| math.gcd(a,  b)      |             | 返回a与b的最大公约数                             |\n",
    "| math.frepx(x)        | x  = m * 2e | 返回(m, e)，当x=0，返回(0.0, 0)                  |\n",
    "| math.ldexp(x,  i)    | x  * 2i     | 返回x * 2i运算值，math.frepx(x)函数的反运算      |\n",
    "| math.modf(x)         |             | 返回x的小数和整数部分                            |\n",
    "| math.trunc(x)        |             | 返回x的整数部分                                  |\n",
    "| math.copysign(x,  y) |             | 用数值y的正负号替换数值x的正负号                 |\n",
    "| math.isclose(a,b)    |             | 比较a和b的相似性，返回True或False                |\n",
    "| math.isfinite(x)     |             | 当x为无穷大，返回True；否则，返回False           |\n",
    "| math.isinf(x)        |             | 当x为正数或负数无穷大，返回True；否则，返回False |\n",
    "| math.isnan(x)        |             | 当x是NaN，返回True；否则，返回False              |"
   ]
  },
  {
   "cell_type": "markdown",
   "metadata": {},
   "source": [
    "以上内容可以看ppt，了解即可。"
   ]
  },
  {
   "cell_type": "markdown",
   "metadata": {},
   "source": [
    "## 实例3.1\n",
    "> 一年365天，以第1天的能力值为基数，记为1.0，当好好学习时能力值相比前一天提高1‰，当没有学习时由于遗忘等原因能力值相比前一天下降1‰。每天努力和每天放任，一年下来的能力值相差多少呢？"
   ]
  },
  {
   "cell_type": "code",
   "execution_count": 26,
   "metadata": {},
   "outputs": [
    {
     "name": "stdout",
     "output_type": "stream",
     "text": [
      "up:1.44, down:0.69.\n"
     ]
    }
   ],
   "source": [
    "import math\n",
    "dayup = math.pow((1.0+0.001),365)\n",
    "daydown = math.pow((1.0-0.001),365)\n",
    "print(\"up:{:.2f}, down:{:.2f}.\".format(dayup,daydown))"
   ]
  },
  {
   "cell_type": "markdown",
   "metadata": {},
   "source": [
    "# 字符串类型及其操作\n",
    "## 字符串类型str\n",
    "\n",
    "- 字符串是用双引号“”、单引号‘’或者三引号括起来的一个或多个字符。\n",
    "- 字符串可以保存在变量中，也可以单独存在。\n",
    "- 可以用type()函数测试一个字符串的类型\n",
    "\n",
    "- Python语言转义符： \\\n",
    "- \\n，\\r, \\b, \\\\，\\’，\\”，\\t等\n",
    "- 输出带有引号的字符串，可以使用转义符\n",
    "- 使用 \\\\ 输出带有转义符的字符串"
   ]
  },
  {
   "cell_type": "code",
   "execution_count": 50,
   "metadata": {},
   "outputs": [
    {
     "name": "stdout",
     "output_type": "stream",
     "text": [
      "\"hello\" wo\n",
      "r\tld\n"
     ]
    }
   ],
   "source": [
    "print(\"\\\"hello\\\" wo\\n\\rr\\tld\")"
   ]
  },
  {
   "cell_type": "code",
   "execution_count": null,
   "metadata": {},
   "outputs": [],
   "source": []
  }
 ],
 "metadata": {
  "kernelspec": {
   "display_name": "Python 3.6.5 ('base')",
   "language": "python",
   "name": "python3"
  },
  "language_info": {
   "codemirror_mode": {
    "name": "ipython",
    "version": 3
   },
   "file_extension": ".py",
   "mimetype": "text/x-python",
   "name": "python",
   "nbconvert_exporter": "python",
   "pygments_lexer": "ipython3",
   "version": "3.6.5"
  },
  "orig_nbformat": 4,
  "vscode": {
   "interpreter": {
    "hash": "548d5d72f13655f56c40510a65fe4f545f8876d9a564f15949f15a94806d6179"
   }
  }
 },
 "nbformat": 4,
 "nbformat_minor": 2
}
