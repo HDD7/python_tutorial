{
 "cells": [
  {
   "cell_type": "markdown",
   "metadata": {},
   "source": [
    "# 第一章 程序设计基本方法\n",
    "> author:lzp"
   ]
  },
  {
   "cell_type": "markdown",
   "metadata": {},
   "source": [
    "## 计算机概念\n",
    "- 功能性和可编程性\n",
    "\n",
    "## 程序设计语言概述\n",
    "- 编译执行和解释执行\n",
    "- 机器语言：计算机硬件可以直接识别和执行的程序设计语言\n",
    "- 汇编语言：机器语言和汇编语言都直接操作计算机硬件并基于此设计，所以它们统称为低级语言\n",
    "- 高级语言：高级语言区别于低级语言在于，高级语言是接近自然语言的一种计算机程序设计语言\n",
    "\n",
    "## 编译和解释\n",
    "高级语言按照计算机执行方式的不同可分成两类。静态语言，脚本语言。\n",
    "静态语言采用编译执行，脚本语言采用解释执行。\n",
    "**python为脚本语言，解释执行**\n",
    "\n",
    "- 编译是将源代码转换成目标代码的过程。编译是一次性地翻译\n",
    "- 解释是将源代码逐条转换成目标代码同时逐条运行目标代码的过程。每次程序运行时都需要解释器和源代码\n",
    "\n",
    "\n",
    "\n",
    "\n"
   ]
  },
  {
   "cell_type": "markdown",
   "metadata": {},
   "source": [
    "## python 简介\n",
    "1990诞生、Guido van Rossum创立。\n",
    "\n"
   ]
  },
  {
   "cell_type": "code",
   "execution_count": null,
   "metadata": {},
   "outputs": [],
   "source": [
    "print('hello world')"
   ]
  },
  {
   "cell_type": "markdown",
   "metadata": {},
   "source": [
    "Python语言编写的Hello程序只有一行代码，输出hello world。\n",
    "脚本语言 +逐个语句执行\n"
   ]
  },
  {
   "cell_type": "code",
   "execution_count": null,
   "metadata": {},
   "outputs": [],
   "source": [
    "# 例一\n",
    "print('Hello World!大家好!')"
   ]
  },
  {
   "cell_type": "code",
   "execution_count": null,
   "metadata": {},
   "outputs": [],
   "source": [
    "#例2：\n",
    "sum = 99999 * 99999\n",
    "print(sum)"
   ]
  },
  {
   "cell_type": "code",
   "execution_count": null,
   "metadata": {},
   "outputs": [],
   "source": [
    "#例3：输出”Apr”\n",
    "months=\"JanFebMarAprMayJunJulAugSepOctNovDec\" \n",
    "n = 4\n",
    "monthAbbrev = months[(n-1)*3:(n-1)*3+3]\n",
    "print(monthAbbrev)"
   ]
  },
  {
   "cell_type": "markdown",
   "metadata": {},
   "source": [
    "简洁 + 强制可读性\n"
   ]
  },
  {
   "cell_type": "code",
   "execution_count": 12,
   "metadata": {},
   "outputs": [
    {
     "name": "stdout",
     "output_type": "stream",
     "text": [
      "4.5\n"
     ]
    }
   ],
   "source": [
    "#Example 4\n",
    "def mean(numbers):    #函数定义\n",
    "    s = 0.0\n",
    "    for num in numbers:\n",
    "        s = s + num\n",
    "    return s / len(numbers)\n",
    "\n",
    "nums = [0,1,2,3,4,5,6,7,8,9]#列表\n",
    "print(mean(nums))"
   ]
  },
  {
   "cell_type": "markdown",
   "metadata": {},
   "source": [
    "跨平台 + 开源.目前有93561个开源库，覆盖各类计算问题"
   ]
  },
  {
   "cell_type": "code",
   "execution_count": 19,
   "metadata": {},
   "outputs": [
    {
     "name": "stdout",
     "output_type": "stream",
     "text": [
      "4.2911295751906025\n"
     ]
    }
   ],
   "source": [
    "from random import random\n",
    "rnd = random()*10\n",
    "print(rnd)"
   ]
  },
  {
   "cell_type": "markdown",
   "metadata": {},
   "source": [
    "- Python语言是通用语言\n",
    "- Python语言是脚本语言\n",
    "- Python语言是开源语言\n",
    "- Python语言是跨平台语言\n",
    "- Python语言是多模型语言\n",
    "(了解下)\n"
   ]
  },
  {
   "cell_type": "markdown",
   "metadata": {},
   "source": [
    "# 程序的基本编写方法\n",
    "\n",
    "## IPO程序编写方法\n",
    "- 输入数据I(Input)\n",
    "- 处理数据P(Process)\n",
    "- 输出数据O(Output)\n",
    "\n",
    "\n"
   ]
  },
  {
   "cell_type": "code",
   "execution_count": 22,
   "metadata": {},
   "outputs": [],
   "source": [
    "from PIL import Image\n",
    "from PIL import ImageFilter\n",
    "im = Image.open('wishyouwerehere.jpg')\n",
    "e33 = im.filter(ImageFilter.CONTOUR)\n",
    "dst = Image.new('RGB', (im.width + e33.width, im.height))\n",
    "dst.paste(im, (0, 0))\n",
    "dst.paste(e33, (im.width, 0))\n",
    "dst.show()"
   ]
  }
 ],
 "metadata": {
  "kernelspec": {
   "display_name": "Python 3.6.5 ('base')",
   "language": "python",
   "name": "python3"
  },
  "language_info": {
   "codemirror_mode": {
    "name": "ipython",
    "version": 3
   },
   "file_extension": ".py",
   "mimetype": "text/x-python",
   "name": "python",
   "nbconvert_exporter": "python",
   "pygments_lexer": "ipython3",
   "version": "3.6.5"
  },
  "orig_nbformat": 4,
  "vscode": {
   "interpreter": {
    "hash": "548d5d72f13655f56c40510a65fe4f545f8876d9a564f15949f15a94806d6179"
   }
  }
 },
 "nbformat": 4,
 "nbformat_minor": 2
}
