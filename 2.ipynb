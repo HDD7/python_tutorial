{
 "cells": [
  {
   "cell_type": "markdown",
   "metadata": {},
   "source": [
    "# chap2.程序实例解析\n"
   ]
  },
  {
   "cell_type": "markdown",
   "metadata": {},
   "source": [
    "## 温度体系\n",
    "> 温度刻画存在不同体系，摄氏度以1标准大气压下水的结冰点为0度，沸点为100度，将温度进行等分刻画。华氏度以1标准大气压下水的结冰点为32度，沸点为212度，将温度进行等分刻画。\n",
    "问题：如何利用Python程序进行摄氏度和华氏度之间的转换\n",
    "- 步骤1：分析问题的计算部分：采用公式转换方式解决计算问题\n",
    "\n",
    "- 步骤2：确定功能 \\\n",
    "  输入：华氏或者摄氏温度值、温度标识 \\\n",
    "  处理：温度转化算法 \\\n",
    "  输出：华氏或者摄氏温度值、温度标识\\\n",
    "                 F表示华氏度，82F表示华氏82度\n",
    "                 C表示摄氏度，28C表示摄氏28度\n",
    "\n",
    "- 步骤3：设计算法:\\\n",
    "    根据华氏和摄氏温度定义，转换公式如下：\\\n",
    "          C = ( F – 32 ) / 1.8\\\n",
    "          F = C * 1.8 + 32\\\n",
    "           其中，C表示摄氏温度，F表示华氏温度\n",
    "           \n",
    "- 步骤4：编写程序\n"
   ]
  },
  {
   "cell_type": "code",
   "execution_count": null,
   "metadata": {},
   "outputs": [],
   "source": [
    "#tempConvert\n",
    "val = input(\"please input temp:(eg.32C):\")\n",
    "if val[-1] in ['c','C']:\n",
    "    f = 1.8 * float(val[0:-1]) + 32\n",
    "    print('convert to: %.2fF'%f)\n",
    "elif val[-1] in ['F','f']:\n",
    "    c = (float(val[0:-1]) - 32) / 1.8\n",
    "    print('convert to %.2fC')\n",
    "else:\n",
    "    print('input error')"
   ]
  },
  {
   "cell_type": "markdown",
   "metadata": {},
   "source": [
    "- Python语言采用严格的“缩进”来表明程序的格式框架。缩进指每一行代码开始前的空白区域，用来表示代码之间的包含和层次关系。  \n",
    "- 1个缩进 = 4个空格=1个TAB\n",
    "- 用以在Python中标明代码的层次关系\n",
    "- 缩进是Python语言中表明程序框架的唯一手段\n",
    "\n",
    "## 注释\n",
    "注释：程序员在代码中加入的说明信息，不被计算机执行 \\\n",
    "注释的两种方法：\\\n",
    "- 单行注释以#开头\n",
    "``` \n",
    "#Here are the comments \n",
    "```\n",
    "- 多行注释以  ’’’开头和结尾\n",
    "\n",
    "```\n",
    "’’’\n",
    "  This is a multiline comment\n",
    "  used in Python\n",
    "’’’\n",
    "```\n",
    "\n",
    "\n",
    "\n",
    "\n"
   ]
  },
  {
   "cell_type": "markdown",
   "metadata": {},
   "source": [
    "## 命名与保留字\n",
    "- 常量：程序中值不发生改变的元素\n",
    "- 变量：程序中值发生改变或者可以发生改变的元素\n",
    "> Python语言允许采用大写字母、小写字母、数字、下划线(_)和汉字等字符及其组合给变量命名，但名字的首字符不能是 数字，中间不能出现空格，长度没有限制  \\\n",
    "注意：标识符对大小写敏感，python和Python是两个不同的名字 \n",
    "\n",
    "- 保留字，也称为关键字，指被编程语言内部定义并保留使用的标识符。 \\ 程序员编写程序不能定义与保留字相同的标识符。\n",
    "python保留字如下:\n",
    "\n",
    "| and      | elif    | import   | raise  |\n",
    "| -------- | ------- | -------- | ------ |\n",
    "| as       | else    | in       | return |\n",
    "| assert   | except  | is       | try    |\n",
    "| break    | finally | lambda   | while  |\n",
    "| class    | for     | nonlocal | with   |\n",
    "| continue | from    | not      | yield  |\n",
    "| def      | global  | or       | True   |\n",
    "| del      | if      | pass     | False  |\n",
    "|          |         |          | None   |"
   ]
  },
  {
   "cell_type": "code",
   "execution_count": null,
   "metadata": {},
   "outputs": [],
   "source": [
    "#legal name\n",
    "_Python123 = 123\n",
    "_PYthon123 =456\n",
    "print(_Python123,_PYthon123)\n",
    "一二三 = 123\n",
    "#unlegal name\n",
    "# 123python = 123\n",
    "# py thon = 123\n",
    "# and = 123"
   ]
  },
  {
   "cell_type": "markdown",
   "metadata": {},
   "source": [
    "## 字符串\n",
    "Python语言中，字符串是用两个双引号“ ”或者单引号‘ ’括起来的一个或多个字符。\n",
    "\n",
    "![image-20220624180306924](https://s2.loli.net/2022/06/24/DWZFpRjdQHv9GiS.png)"
   ]
  },
  {
   "cell_type": "code",
   "execution_count": null,
   "metadata": {},
   "outputs": [],
   "source": [
    "s = \"Hello World\"\n",
    "print(s[2:5])\n",
    "print(s[-4])"
   ]
  },
  {
   "cell_type": "markdown",
   "metadata": {},
   "source": [
    "## 赋值语句\n",
    "- Python语言中，= 表示“赋值”，即将等号右侧的值计算后将结果值赋给左侧变量，包含等号（=）的语句称为“赋值语句”\n",
    "- 同步赋值语句：同时给多个变量赋值\\<变量1>, …, <变量N> = <表达式1>, …, <表达式N>"
   ]
  },
  {
   "cell_type": "code",
   "execution_count": null,
   "metadata": {},
   "outputs": [],
   "source": [
    "x,y,z = 1,2,3\n",
    "print(x,y,z)"
   ]
  },
  {
   "cell_type": "markdown",
   "metadata": {},
   "source": [
    "## input函数\n",
    "获得用户输入之前，input()函数可以包含一些提示性文字 \\\n",
    "         <变量> = input(<提示性文字>)    #返回字符串"
   ]
  },
  {
   "cell_type": "code",
   "execution_count": null,
   "metadata": {},
   "outputs": [],
   "source": [
    "input('please input:')"
   ]
  },
  {
   "cell_type": "markdown",
   "metadata": {},
   "source": [
    "## 分支语句\n",
    "\n",
    "分支语句是控制程序运行的一类重要语句，它的作用是根据判断条件选择程序执行路径，使用方式如下：\n",
    "```\n",
    "if <条件1>:\n",
    "    <语句块1>\n",
    "elif <条件2>:\n",
    "    <语句块2>\n",
    "... \n",
    "else: \n",
    "    <语句块N>\n",
    "\n",
    "```"
   ]
  },
  {
   "cell_type": "code",
   "execution_count": null,
   "metadata": {},
   "outputs": [],
   "source": [
    "x = 13\n",
    "if x < 10:\n",
    "    print('x<10')\n",
    "elif x < 15:\n",
    "    print('10<x<15')\n",
    "else:\n",
    "    print(x>=15)"
   ]
  },
  {
   "cell_type": "markdown",
   "metadata": {},
   "source": [
    "## eval() 函数\n",
    "eval(<字符串>)函数能够以Python表达式的方式解析并执行字符串，将返回结果输出"
   ]
  },
  {
   "cell_type": "code",
   "execution_count": null,
   "metadata": {},
   "outputs": [],
   "source": [
    "x = 1\n",
    "print(eval(\"x + 1\"))\n",
    "print(eval(\"1.1 + 2.2\"))\n",
    "print(eval(\"1234567\"))"
   ]
  },
  {
   "cell_type": "markdown",
   "metadata": {},
   "source": [
    "## 空格及小括号\n",
    "- 空格可提高代码可读性，但不能改变缩进规则，标识符及运算符内部不能加空格\n",
    "- 小括号()可以改变运算默认优先级"
   ]
  },
  {
   "cell_type": "code",
   "execution_count": null,
   "metadata": {},
   "outputs": [],
   "source": [
    "x1 = (1+3) * 2\n",
    "x2 = 1 + (3*2)\n",
    "print(x1,x2)"
   ]
  },
  {
   "cell_type": "markdown",
   "metadata": {},
   "source": [
    "## 输出函数print\n",
    "- print()函数用来输出字符信息，或以字符形式输出变量。\n",
    "- print()函数可以输出各种类型变量的值。\n",
    "- print()函数通过%来选择要输出的变量。\n",
    "- 使用格式槽和format()方法进行格式化输出(tuijian)\n"
   ]
  },
  {
   "cell_type": "code",
   "execution_count": null,
   "metadata": {},
   "outputs": [],
   "source": [
    "n1=10\n",
    "n2=3.14\n",
    "print(\"n1=%d\"%n1)\n",
    "print(\"n2=%f\"%n2)\n",
    "print(\"n1=%d\"%n1,\"n2=%f\"%n2)\n"
   ]
  },
  {
   "cell_type": "code",
   "execution_count": null,
   "metadata": {},
   "outputs": [],
   "source": [
    "n1=10\n",
    "n2=3.14\n",
    "print(\"整数n1的值是:{}\".format(n1))\n",
    "print(\"浮点数n2的值是:{:.2f}\".format(n2))"
   ]
  },
  {
   "cell_type": "markdown",
   "metadata": {},
   "source": [
    "## 循环语句\n",
    "循环语句：控制程序运行，根据判断条件或计数条件确定一段程序的运行次数\n",
    "- 遍历循环：\n",
    "```\n",
    "for i in range (<计数值>):\n",
    "    <语句块>\n",
    "```\n",
    "例如，使某一段程序连续运行10次\n",
    "```\n",
    "for i in range (10):    #变量i用于计数\n",
    "    <源代码>\n",
    "```\n",
    "- 条件循环：while (<计数值>):\n",
    "                       <语句块>"
   ]
  },
  {
   "cell_type": "code",
   "execution_count": null,
   "metadata": {},
   "outputs": [],
   "source": [
    "for i in range(10):\n",
    "    print(i)"
   ]
  },
  {
   "cell_type": "markdown",
   "metadata": {},
   "source": [
    "## 函数\n",
    "> 函数：与数学中的函数类似，是具有特定功能的一组代码，一次编写可多次调用，简化代码量，方便软件调试，是模块化程序设计的基础。\n",
    "\n",
    "- 内置函数：input,print,eval,abs等直接使用\n",
    "- 标准库函数： import导入后使用\n",
    "- 第三方函数：安装包并import导入使用\n",
    "- 自定义函数：先用def定义函数再使用"
   ]
  },
  {
   "cell_type": "code",
   "execution_count": null,
   "metadata": {},
   "outputs": [],
   "source": [
    "#built-in function\n",
    "print(abs(-10))"
   ]
  },
  {
   "cell_type": "code",
   "execution_count": null,
   "metadata": {},
   "outputs": [],
   "source": [
    "#std function\n",
    "import math\n",
    "print(pow(2,3))"
   ]
  },
  {
   "cell_type": "code",
   "execution_count": null,
   "metadata": {},
   "outputs": [],
   "source": [
    "#import function\n",
    "from random import random\n",
    "rnd = random()*10\n",
    "print(rnd)"
   ]
  },
  {
   "cell_type": "code",
   "execution_count": null,
   "metadata": {},
   "outputs": [],
   "source": [
    "#def function\n",
    "def myfunc(a):\n",
    "    return a*5\n",
    "print(myfunc(4))"
   ]
  },
  {
   "cell_type": "markdown",
   "metadata": {},
   "source": [
    "## turtle库和蟒蛇绘制程序\n",
    "> Turtle库是Python语言中一个很流行的绘制图像的函数库\n",
    "\n",
    "使用turtle库，同学们头脑里需要有这样一个概念：\n",
    "想象一个小乌龟，在一个横轴为x、纵轴为y的坐标系原点，(0,0)位置开始\n",
    "它根据一组函数指令的控制，在这个平面坐标系中移动，从而在它爬行的路径上绘制了图形\n"
   ]
  },
  {
   "cell_type": "code",
   "execution_count": 3,
   "metadata": {},
   "outputs": [],
   "source": [
    "import turtle\n",
    "turtle.setup(1300,800,0,0)\n",
    "turtle.seth(45)\n",
    "turtle.circle(40,80,5)\n",
    "turtle.fd(40)\n",
    "turtle.exitonclick()"
   ]
  },
  {
   "cell_type": "code",
   "execution_count": 1,
   "metadata": {},
   "outputs": [],
   "source": [
    "import turtle\n",
    "def drawSnake(rad,angle,len,neckrad):\n",
    "    for i in range(len):\n",
    "        turtle.circle(rad,angle)\n",
    "        turtle.circle(-rad,angle)\n",
    "    turtle.circle(rad,angle/2)\n",
    "    turtle.fd(rad)\n",
    "    turtle.circle(neckrad+1,180)\n",
    "    turtle.fd(rad*2/3)\n",
    "\n",
    "def main():\n",
    "    turtle.setup(1300,800,0,0)\n",
    "    pythonsize = 30\n",
    "    turtle.pensize(pythonsize)\n",
    "    turtle.pencolor('blue')\n",
    "    turtle.seth(-40)\n",
    "    drawSnake(40,80,5,pythonsize/2)\n",
    "\n",
    "main()\n",
    "turtle.exitonclick()"
   ]
  }
 ],
 "metadata": {
  "kernelspec": {
   "display_name": "Python 3.6.5 ('base')",
   "language": "python",
   "name": "python3"
  },
  "language_info": {
   "codemirror_mode": {
    "name": "ipython",
    "version": 3
   },
   "file_extension": ".py",
   "mimetype": "text/x-python",
   "name": "python",
   "nbconvert_exporter": "python",
   "pygments_lexer": "ipython3",
   "version": "3.6.5"
  },
  "orig_nbformat": 4,
  "vscode": {
   "interpreter": {
    "hash": "548d5d72f13655f56c40510a65fe4f545f8876d9a564f15949f15a94806d6179"
   }
  }
 },
 "nbformat": 4,
 "nbformat_minor": 2
}
